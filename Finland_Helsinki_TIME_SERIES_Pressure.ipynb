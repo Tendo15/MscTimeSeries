{
  "nbformat": 4,
  "nbformat_minor": 0,
  "metadata": {
    "colab": {
      "private_outputs": true,
      "provenance": [],
      "mount_file_id": "105YXvrlV6Y9byfyseqGPDAQE52SC6-7D",
      "authorship_tag": "ABX9TyMT5Pa9dh8Qw4G/M+ZtChrl",
      "include_colab_link": true
    },
    "kernelspec": {
      "name": "python3",
      "display_name": "Python 3"
    },
    "language_info": {
      "name": "python"
    }
  },
  "cells": [
    {
      "cell_type": "markdown",
      "metadata": {
        "id": "view-in-github",
        "colab_type": "text"
      },
      "source": [
        "<a href=\"https://colab.research.google.com/github/Tendo15/MscTimeSeries/blob/main/Finland_Helsinki_TIME_SERIES_Pressure.ipynb\" target=\"_parent\"><img src=\"https://colab.research.google.com/assets/colab-badge.svg\" alt=\"Open In Colab\"/></a>"
      ]
    },
    {
      "cell_type": "code",
      "execution_count": null,
      "metadata": {
        "id": "CVfkM13qZxW4"
      },
      "outputs": [],
      "source": [
        "#Imports\n",
        "import numpy as np\n",
        "import pandas as pd\n",
        "import matplotlib.pyplot as plt\n",
        "import seaborn as sns\n",
        "import plotly.express as px\n",
        "import warnings\n",
        "warnings.simplefilter(action='ignore', category=FutureWarning)"
      ]
    },
    {
      "cell_type": "code",
      "source": [
        "from google.colab import drive\n",
        "drive.mount('/content/drive', force_remount=True)"
      ],
      "metadata": {
        "id": "aStcomzwgVVj"
      },
      "execution_count": null,
      "outputs": []
    },
    {
      "cell_type": "markdown",
      "source": [
        "# Exploratory Data Analysis"
      ],
      "metadata": {
        "id": "tUvZe7uMg5w5"
      }
    },
    {
      "cell_type": "code",
      "source": [
        "weather_data = pd.read_csv('/content/drive/MyDrive/ColabNotebooks2024/Disso24/finland_data_test.csv',parse_dates=['datetime'],sep=';', decimal=',', infer_datetime_format=True)\n",
        "#Check the shape of the dataset\n",
        "print(weather_data.shape)\n",
        "\n",
        "#Select the datetime and the Atmospheric Pressure(reduced to mean sea level) columns\n",
        "helsinki_df=weather_data[[\"datetime\",\"P_mu\"]]\n",
        "helsinki_df.head(10)"
      ],
      "metadata": {
        "id": "lRDGRuOZgpEp"
      },
      "execution_count": null,
      "outputs": []
    },
    {
      "cell_type": "markdown",
      "source": [
        "# DATA SELECTION FROM 2016 TO 2019"
      ],
      "metadata": {
        "id": "5DH2Yl3Diz-i"
      }
    },
    {
      "cell_type": "code",
      "source": [
        "#Select the subset data from 2016 to 2019\n",
        "mask = (helsinki_df['datetime'] >= '2016-01-01') & (helsinki_df['datetime'] <= '2019-05-21')\n",
        "helsinki_df = helsinki_df.loc[mask]\n",
        "\n",
        "#Reset the index\n",
        "helsinki_df.set_index(\"datetime\", inplace=True)\n",
        "\n",
        "#Inspect first 5 rows and last 5 rows of the data\n",
        "from IPython.display import display\n",
        "display(helsinki_df.head(5))\n",
        "display(helsinki_df.tail(5))"
      ],
      "metadata": {
        "id": "ULXo7VIaiyFJ"
      },
      "execution_count": null,
      "outputs": []
    },
    {
      "cell_type": "code",
      "source": [
        "helsinki_df.describe()"
      ],
      "metadata": {
        "id": "QujCREbGkD0W"
      },
      "execution_count": null,
      "outputs": []
    },
    {
      "cell_type": "code",
      "source": [
        "#Output the maximum and minimum Atmospheric pressure date\n",
        "print(helsinki_df.loc[helsinki_df[\"P_mu\"] == helsinki_df[\"P_mu\"].max()])\n",
        "print(helsinki_df.loc[helsinki_df[\"P_mu\"] == helsinki_df[\"P_mu\"].min()])"
      ],
      "metadata": {
        "id": "-LbICH4-kXNT"
      },
      "execution_count": null,
      "outputs": []
    },
    {
      "cell_type": "markdown",
      "source": [
        "# Observations\n",
        "\n",
        "*   On January 2019 the lowest Atmospheric Pressure occured at 730.2  this was the lowest pressure to date in a period of 4 years\n",
        "*   In july 2018 the highest Atmospheric Pressure occured at 785.9 at.\n",
        "Deviation of pressure from the average pressure is associated with cyclonic / anticyclonic activity. In a cyclone pressure decreases and in an anticyclone it increases.\n",
        "# SEASONS IN FINLAND\n",
        "*   Summer June and lasts until the end of August\n",
        "*   Autumn August and the start of September\n",
        "*   Winter November and lasts until the end of March or April.\n",
        "*   Spring March, but it won’t get warmer until April.\n",
        "\n",
        "The average pressure in any location is very dependent on height of the ground relative to the sea level. With increasing altitude the pressure decreases. For example, in case of the same state of the atmosphere, the atmospheric pressure in Moscow and St. Petersburg will differ due to the fact that these cities are located at different altitudes. In Moscow, at an altitude of about 156 m above the sea level, the pressure will be approximately by 15 mmHg. lower than in St. Petersburg, located at a height of about 4 m above the sea level.\n",
        "\n",
        "https://www.edunation.co/blog/four-seasons-finland/#:~:text=When%20students%20come%20to%20Finland,spring%2C%20summer%2C%20and%20autumn.\n",
        "\n",
        "\n",
        "\n",
        "\n"
      ],
      "metadata": {
        "id": "cPy7P22Ak1jr"
      }
    },
    {
      "cell_type": "markdown",
      "source": [
        "# Data Visualizations"
      ],
      "metadata": {
        "id": "C0Hjp2Clm6t7"
      }
    },
    {
      "cell_type": "code",
      "source": [
        "#plot the daily temperature change\n",
        "plt.figure(figsize=(16,10), dpi=100)\n",
        "plt.plot(helsinki_df.index, helsinki_df.P_mu, color='tab:red')\n",
        "plt.gca().set(title=\"Daily Atmospheric Pressure in Helsinki International airport Vantaa Finland from 2016 to 2019\", xlabel='Date', ylabel=\"Atmospheric Pressure (in milimeters mercury)\")\n",
        "plt.show()"
      ],
      "metadata": {
        "id": "-YsBtwOJnB1W"
      },
      "execution_count": null,
      "outputs": []
    },
    {
      "cell_type": "markdown",
      "source": [
        "# Moving average smoothing\n",
        "This is a time series forcasting method used to remove the fine-grained variation between time stemps\n",
        "\n",
        "*   Smoothing is used to remove noise and better expose undelying process\n",
        "*   Moving avarages are a common type of smoothing in tim series forcasing\n",
        "\n",
        "This rolling() function will group our observations into a window. This is a window size of 30 days, chosen randomly\n",
        "\n"
      ],
      "metadata": {
        "id": "wg7QYgxlrers"
      }
    },
    {
      "cell_type": "code",
      "source": [
        "#Applying the moving Average function by a subset of size being 30 days\n",
        "helsinki_df_mean=helsinki_df.P_mu.rolling(window=30).mean()\n",
        "helsinki_df_mean.plot(figsize=(20,15))"
      ],
      "metadata": {
        "id": "X7LJlYqt4bAM"
      },
      "execution_count": null,
      "outputs": []
    },
    {
      "cell_type": "markdown",
      "source": [
        "Observation: a seasonality trend/ pattern is happening in this dataset whereby the temperatures are always low at the begining of the year and they increases in the middle of the year.  Usually in the month of June finland has an increase of the sun."
      ],
      "metadata": {
        "id": "JbWO7cI55sgh"
      }
    },
    {
      "cell_type": "markdown",
      "source": [
        "# ADDITIVE DECOMPOSITION\n",
        "\n",
        "Time series decomposition allows us to to describe the trend and seasonal factors in a time series. More extensive decompositions might also include long-run cycles, holiday effects, day of week effects and so on. Here, we'll only consider trend and seasonal decompositions."
      ],
      "metadata": {
        "id": "47H7EdA567po"
      }
    },
    {
      "cell_type": "code",
      "source": [
        "from statsmodels.tsa.seasonal import seasonal_decompose\n",
        "\n",
        "# Additive Decomposition with adjusted period\n",
        "result_add = seasonal_decompose(helsinki_df.P_mu, model='additive', extrapolate_trend='freq', period=365)\n",
        "\n",
        "# Plot\n",
        "plt.rcParams.update({'figure.figsize':(10,10)})\n",
        "result_add.plot().suptitle('Additive Decomposition', fontsize=22)\n",
        "plt.show()"
      ],
      "metadata": {
        "id": "eS-Iuv4F628_"
      },
      "execution_count": null,
      "outputs": []
    },
    {
      "cell_type": "code",
      "source": [
        "import matplotlib.pyplot as plt\n",
        "from statsmodels.tsa.seasonal import seasonal_decompose\n",
        "\n",
        "# Additive Decomposition with adjusted period\n",
        "result_add = seasonal_decompose(helsinki_df.P_mu, model='additive', extrapolate_trend='freq', period=365)\n",
        "\n",
        "# Plot with pink color for trend\n",
        "plt.rcParams.update({'figure.figsize':(10,10)})\n",
        "result_add.trend.plot(color='purple')\n",
        "plt.title('Additive Decomposition - Trend', fontsize=22)\n",
        "plt.show()\n",
        "\n",
        "# Plot with pink color for seasonal component\n",
        "plt.rcParams.update({'figure.figsize':(10,10)})\n",
        "result_add.seasonal.plot(color='purple')\n",
        "plt.title('Additive Decomposition - Seasonal', fontsize=22)\n",
        "plt.show()\n",
        "\n",
        "# Plot with pink color for residual\n",
        "plt.rcParams.update({'figure.figsize':(10,10)})\n",
        "result_add.resid.plot(color='purple')\n",
        "plt.title('Additive Decomposition - Residual', fontsize=22)\n",
        "plt.show()"
      ],
      "metadata": {
        "id": "DGK-xVu5Aumq"
      },
      "execution_count": null,
      "outputs": []
    },
    {
      "cell_type": "markdown",
      "source": [
        "# Baseline Model using 1-step prediction to model temp"
      ],
      "metadata": {
        "id": "5psy4wkbJNZ8"
      }
    },
    {
      "cell_type": "code",
      "source": [
        "#Shift the current temperature to the next day\n",
        "predicted_df = helsinki_df[\"P_mu\"].to_frame().shift(1).rename(columns = {\"P_mu\": \"P_mu_pred\"})\n",
        "actual_df = helsinki_df[\"P_mu\"].to_frame().rename(columns={\"P_mu\": \"P_mu_actual\"})\n",
        "\n",
        "#Concantinate the actual and predicted temp\n",
        "one_step_df = pd.concat([actual_df, predicted_df],axis=1)\n",
        "\n",
        "#Select from the second row, due to no prediction due to shifting\n",
        "one_step_df = one_step_df[1:]\n",
        "one_step_df.head(10)"
      ],
      "metadata": {
        "id": "P0yrEaTrJMtK"
      },
      "execution_count": null,
      "outputs": []
    },
    {
      "cell_type": "markdown",
      "source": [
        "# Root Mean Squared Error(RMSE) bettween predicted and actual\n",
        "# RMSE = sqrt [(Σ(Pi – Oi)²) / n]\n",
        "\n"
      ],
      "metadata": {
        "id": "1eWTeSCbHVtY"
      }
    },
    {
      "cell_type": "code",
      "source": [
        "from sklearn.metrics import mean_squared_error\n",
        "from math import sqrt\n",
        "\n",
        "# Calculate the MSE\n",
        "mse = mean_squared_error(one_step_df.P_mu_actual, one_step_df.P_mu_pred)\n",
        "\n",
        "# Calculate the RMSE\n",
        "rmse = sqrt(mse)\n",
        "print(\"The RMSE is\", rmse)"
      ],
      "metadata": {
        "id": "qqCsr5NDHlZO"
      },
      "execution_count": null,
      "outputs": []
    },
    {
      "cell_type": "markdown",
      "source": [
        "- RMSE is higher than the RMSE of the tempreture Model.\n",
        "- Unfortunately, based on a rule of thumb, values between 0.2 and 0.5 show model acuracy."
      ],
      "metadata": {
        "id": "91z0t6kWNujX"
      }
    },
    {
      "cell_type": "markdown",
      "source": [
        "# FORECASTING USING THE SARIMA MODEL\n",
        "\n",
        "SARIMA: Seasonal Autoregressive, Integrated Moving Average.\n",
        "SARIMA Notation: (p,d,q)(P,D,Q,s)\n",
        "these parameters = Seasonality, Trend and noise.\n",
        "\n",
        "# PARAMETER SELECTION USING GRID SEARCH\n",
        "*   Grid search used to explore different combinations of parameters.\n",
        "*   For each combination of parameters, we fit new seasonal SARIMA model using the SARIMAX()function\n",
        "\n"
      ],
      "metadata": {
        "id": "6iZJ_P3zDoxC"
      }
    },
    {
      "cell_type": "code",
      "source": [
        "import itertools\n",
        "\n",
        "#Define the p, d and q parameters to take any value between 0 and 2\n",
        "p = d = q = range(0,2)\n",
        "\n",
        "#Create all different combinations of p, d and q triple\n",
        "pdq = list(itertools.product(p, d, q))\n",
        "\n",
        "#Create all diffrent combinations of seasonal p,d,q triplets\n",
        "seasonal_pdq = [(x[0], x[1], x[2], 12) for x in list(itertools.product(p,d,q))]\n",
        "\n",
        "print('Examples of parameter combinations for Seasonal ARIMA...')\n",
        "print('SARIMAX: {} x {}'.format(pdq[1], seasonal_pdq[1]))\n",
        "print('SARIMAX: {} x {}'.format(pdq[1], seasonal_pdq[2]))\n",
        "print('SARIMAX: {} x {}'.format(pdq[2], seasonal_pdq[3]))\n",
        "print('SARIMAX: {} x {}'.format(pdq[2], seasonal_pdq[4]))"
      ],
      "metadata": {
        "id": "j7NIP7uCOEcc"
      },
      "execution_count": null,
      "outputs": []
    },
    {
      "cell_type": "markdown",
      "source": [
        "# Parameter Selection using grid search"
      ],
      "metadata": {
        "id": "ndqQsBcsQ3nY"
      }
    },
    {
      "cell_type": "code",
      "source": [
        "import warnings\n",
        "warnings.filterwarnings(\"ignore\") #specify to ignore warning messages\n",
        "\n",
        "for param in pdq:\n",
        "    for param_seasonal in seasonal_pdq:\n",
        "        try:\n",
        "            mod = sm.tsa.statespace.SARIMAX(one_step_df.P_mu_actual,\n",
        "                                          order=param,\n",
        "                                          seasonal_order=param_season,\n",
        "                                          enforce_stationarity=False,\n",
        "                                          enforce_invertibility=False)\n",
        "            results = mod.fit()\n",
        "\n",
        "            print('SARIM{}x{}12 - AIC:{}'.format(param, param_seasonal, results.aic))\n",
        "        except:\n",
        "            continue"
      ],
      "metadata": {
        "id": "KGRMuLQeDkOI"
      },
      "execution_count": null,
      "outputs": []
    },
    {
      "cell_type": "code",
      "source": [
        "#Import the statsmodels library for using SARIMAX model\n",
        "import statsmodels.api as sm\n",
        "\n",
        "#Fit the SARIMAX model using optimal parameters\n",
        "mod = sm.tsa.statespace.SARIMAX(one_step_df.P_mu_actual,\n",
        "                                order=(1,1,1),\n",
        "                                seasonal_order=(1,1,1, 12),\n",
        "                                enforce_stationarity=False,\n",
        "                                enforce_invertibility=False)\n",
        "\n",
        "results = mod.fit()"
      ],
      "metadata": {
        "id": "BXr-3BwASKkG"
      },
      "execution_count": null,
      "outputs": []
    },
    {
      "cell_type": "markdown",
      "source": [
        "# Model Diagnostics - unusual behavior\n",
        "\n",
        "# **RESULTS shows**\n",
        "\n",
        "\n",
        "1.   Model resedual are normally distribuated\n",
        "2.   KDE line follows closely for a normal disribution and a mean of 0 and standard deviation of 1\n",
        "3. Normal corelation on QQ Plot\n",
        "4. Normal distribution of 0-mean\n",
        "\n",
        "\n"
      ],
      "metadata": {
        "id": "w972NoyeTdS8"
      }
    },
    {
      "cell_type": "code",
      "source": [
        "results.plot_diagnostics(figsize=(15,12))\n",
        "plt.show()"
      ],
      "metadata": {
        "id": "h60ZGqVBTcGB"
      },
      "execution_count": null,
      "outputs": []
    },
    {
      "cell_type": "markdown",
      "source": [
        "# **FORECASTS VALIDATION**\n",
        "\n",
        "To help understand th accuracy of forecasts we set forecasts to start from 2017 to the end of the data"
      ],
      "metadata": {
        "id": "ZqjIh_szWzHe"
      }
    },
    {
      "cell_type": "code",
      "source": [
        "#The 'get_prediction()' and 'conf_int()' attributes allow us to obtain the values\n",
        "pred = results.get_prediction(start=pd.to_datetime('2017-05-19'), dynamic=False)\n",
        "pred_ci = pred.conf_int()"
      ],
      "metadata": {
        "id": "klRCSmAfXJ3V"
      },
      "execution_count": null,
      "outputs": []
    },
    {
      "cell_type": "code",
      "source": [
        "ax = one_step_df.P_mu_actual['2015':].plot(label='Actual')\n",
        "pred.predicted_mean.plot(ax=ax, label='Forecast')\n",
        "\n",
        "ax.fill_between(pred_ci.index,\n",
        "                pred_ci.iloc[:, 0],\n",
        "                pred_ci.iloc[:, 1], color='k', alpha=.2)\n",
        "ax.set_xlabel('Date')\n",
        "ax.set_ylabel('Atmospheric Pressure (in milimeters mercury)')\n",
        "plt.ylim([-20,30])\n",
        "plt.legend()\n",
        "plt.show()"
      ],
      "metadata": {
        "id": "1wJsIejRYVpu"
      },
      "execution_count": null,
      "outputs": []
    },
    {
      "cell_type": "markdown",
      "source": [
        "# Mean Square Error of the 5.11 forecast *MSE = Σ(yi − pi)2n*"
      ],
      "metadata": {
        "id": "SEWsFCOH_RTB"
      }
    },
    {
      "cell_type": "code",
      "source": [
        "from sklearn.metrics import mean_squared_error as MSE\n",
        "from math import sqrt\n",
        "\n",
        "y_forecasted = pred.predicted_mean\n",
        "y_truth = one_step_df.P_mu_actual['2017-05-19':]\n",
        "print(y_forecasted.shape)\n",
        "print(y_truth.shape)\n",
        "#Compute the mean square error\n",
        "mse = sqrt(MSE(y_truth, y_forecasted).mean())\n",
        "print('The Mean Squared Error of this forecast is{}'.format(round(mse, 2)))"
      ],
      "metadata": {
        "id": "k9_h_YVzXiIt"
      },
      "execution_count": null,
      "outputs": []
    },
    {
      "cell_type": "markdown",
      "source": [
        "# Observation:\n",
        "# MSE = Σ(yi − pi)2n\n",
        "Mean squared error(MSE) of the 5.11 forecast is 4.97\n",
        "The closer the MSE is to the value of \"0\" the more perfect the accuracy of the parameter. However, 4.97 is very high"
      ],
      "metadata": {
        "id": "od62hmKWBwm-"
      }
    },
    {
      "cell_type": "code",
      "source": [],
      "metadata": {
        "id": "IMQmsZMvDH2_"
      },
      "execution_count": null,
      "outputs": []
    },
    {
      "cell_type": "markdown",
      "source": [
        "# DYNAMIC FORECASTS\n",
        "\n",
        "- Check for a better representation of true Prediction power\n",
        "- Information used is from the time series up to a specific forecast point, then after the forecasts are generated from previous values\n",
        "- Cpmputing of dynamoc forecasting  and confident intervals from May 2017 onwards"
      ],
      "metadata": {
        "id": "HAKU77pkEl-k"
      }
    },
    {
      "cell_type": "code",
      "source": [
        "pred_dynamic = results.get_prediction(start=pd.to_datetime('2017-05-19'), dynamic=True, full_results=True)\n",
        "pred_dynamic_ci = pred_dynamic.conf_int()"
      ],
      "metadata": {
        "id": "n3Whf1C6Fd9d"
      },
      "execution_count": null,
      "outputs": []
    },
    {
      "cell_type": "code",
      "source": [
        "ax = one_step_df.P_mu_actual['2015':].plot(label='Actual', figsize=(15, 10))\n",
        "pred_dynamic.predicted_mean.plot(label='Dynamic Forecast', ax=ax)\n",
        "\n",
        "ax.fill_between(pred_dynamic_ci.index,\n",
        "                pred_dynamic_ci.iloc[:, 0],\n",
        "                pred_dynamic_ci.iloc[:, 1], color='k', alpha=.25)\n",
        "\n",
        "ax.set_xlabel('Date')\n",
        "ax.set_ylabel('Atmospheric Pressure (milimeters of mercury)')\n",
        "plt.title('Dynamic Forecats-Actual vs Observed ', fontsize=22)\n",
        "plt.ylim([-20,30])\n",
        "plt.legend()\n",
        "plt.show()"
      ],
      "metadata": {
        "id": "Sl_J6m5XF621"
      },
      "execution_count": null,
      "outputs": []
    }
  ]
}